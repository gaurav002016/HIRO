{
 "cells": [
  {
   "cell_type": "markdown",
   "metadata": {},
   "source": [
    "<center>\n",
    "    <img src=\"https://cf-courses-data.s3.us.cloud-object-storage.appdomain.cloud/IBMDeveloperSkillsNetwork-DS0105EN-SkillsNetwork/labs/Module2/images/SN_web_lightmode.png\" width=\"300\" alt=\"cognitiveclass.ai logo\">\n",
    "</center>\n"
   ]
  },
  {
   "cell_type": "markdown",
   "metadata": {},
   "source": [
    "#### Add your code below following the instructions given in the course\n"
   ]
  },
  {
   "cell_type": "markdown",
   "metadata": {},
   "source": [
    "# Data Science Tools and Ecosystem"
   ]
  },
  {
   "cell_type": "markdown",
   "metadata": {},
   "source": [
    "## Introduction\n",
    "In this notebook, we will explore various tools and libraries used in the field of Data Science. Additionally, \n",
    "we will demonstrate basic arithmetic operations and concversion teechniques utilized in Data Analysis."
   ]
  },
  {
   "cell_type": "markdown",
   "metadata": {},
   "source": [
    "## Data Science Languages\n",
    "Some of the most popular languages that data scientists use are:\n",
    "- ### Python\n",
    "> Python is a versatile, high-level programming language known for its readability and wide range of libraries for data analysis, machine learning, and visualization, such as NumPy, pandas, and scikit-learn. Its ease of use and strong community support make it a top choice for data scientists.\n",
    "\n",
    "- ### R\n",
    "> R is a language and environment specifically designed for statistical computing and graphics. It excels in data manipulation, statistical modeling, and data visualization, with extensive packages like ggplot2 and dplyr. R is particularly popular in academia and research for its robust statistical analysis capabilities.\n",
    "\n",
    "- ### SQL\n",
    "> SQL (Structured Query Language) is the standard language for managing and manipulating relational databases. It is essential for querying large datasets, performing joins, aggregations, and managing data stored in database management systems like MySQL, PostgreSQL, and SQL Server.\n",
    "\n",
    "- ### Julia\n",
    "> Julia is a high-performance, high-level programming language for technical computing, designed to address the needs of computational science and numerical analysis. It combines the ease of use of Python with the speed of C, making it ideal for heavy computational tasks and large-scale data analysis.\n",
    "\n",
    "- ### Scala\n",
    "> Scala is a functional and object-oriented programming language that runs on the Java Virtual Machine (JVM). It is known for its scalability and performance, making it a good choice for big data processing frameworks like Apache Spark, where it is often used for large-scale data processing tasks.\n",
    "\n",
    "- ### MATLAB\n",
    "> MATLAB is a proprietary programming language and environment used extensively in engineering, scientific research, and applied mathematics. It offers powerful tools for numerical computation, visualization, and algorithm development, with specialized toolboxes for various domains.\n",
    "\n",
    "- ### Java\n",
    "> Java is a widely-used, class-based, object-oriented programming language known for its portability, performance, and extensive libraries. In data science, it is often used for building large-scale data processing systems, particularly with big data technologies like Hadoop and Apache Flink"
   ]
  },
  {
   "cell_type": "markdown",
   "metadata": {},
   "source": [
    "## Data Science Libraries\n",
    "A few of the key libraries used by data scientists include:\n",
    "- ### Pandas\n",
    "> Pandas is a powerful library for data manipulation and analysis, offering data structures like DataFrames and functions for reading/writing data, handling missing values, and performing aggregations.\n",
    "\n",
    "- ### NumPy\n",
    "> NumPy provides support for large, multi-dimensional arrays and matrices, along with a collection of mathematical functions to perform operations on these arrays efficiently.\n",
    "\n",
    "- ### Matplotlib\n",
    "> Matplotlib is a comprehensive library for creating static, animated, and interactive visualizations in Python, known for its versatility and extensive customization options.\n",
    "\n",
    "- ### Scikit-learn\n",
    "> Scikit-learn is a robust library for machine learning, offering simple and efficient tools for data mining, data analysis, and machine learning algorithms, including classification, regression, and clustering.\n",
    "\n",
    "- ### TensorFlow\n",
    "> TensorFlow is an open-source deep learning framework developed by Google, designed for building and training machine learning models, particularly neural networks, with scalability and flexibility.\n",
    "\n",
    "- ### Keras\n",
    "> Keras is a high-level neural networks API, written in Python and capable of running on top of TensorFlow, simplifying the process of building and training deep learning models with an intuitive interface.\n",
    "\n",
    "- ### Seaborn\n",
    "> Seaborn is a statistical data visualization library based on Matplotlib, providing a high-level interface for drawing attractive and informative statistical graphics with less code.\n",
    "\n",
    "- ### SciPy\n",
    "> SciPy is an open-source library that builds on NumPy, providing a wide range of algorithms and functions for scientific and technical computing, including optimization, integration, and signal processing.\n",
    "\n",
    "- ### PyTorch\n",
    "> PyTorch is an open-source deep learning framework developed by Facebook, known for its dynamic computational graph and ease of use, particularly popular for research and development in deep learning"
   ]
  },
  {
   "cell_type": "markdown",
   "metadata": {},
   "source": [
    "## Data Science Tools\n",
    "| Tool          | Description                                         |\n",
    "|---------------|-----------------------------------------------------|\n",
    "| Jupyter       | Interactive computing environment                   |\n",
    "| RStudio       | Integrated development environment for R            |\n",
    "| Apache Spark  | Unified analytics engine for big data processing    |\n",
    "| TensorFlow    | End-to-End open source platform for machine learning|\n",
    "| Tableau       | Data visualization and business intelligence tool   |"
   ]
  },
  {
   "cell_type": "markdown",
   "metadata": {},
   "source": [
    "## Arithmetic Expression Examples\n",
    "In this section, we will explore some basic airthmetic operations such as addition, subtraction, multiplication, and division."
   ]
  },
  {
   "cell_type": "code",
   "execution_count": 4,
   "metadata": {},
   "outputs": [
    {
     "data": {
      "text/plain": [
       "28.62750000000001"
      ]
     },
     "execution_count": 4,
     "metadata": {},
     "output_type": "execute_result"
    }
   ],
   "source": [
    "# Multiplying, adding, and subtracting numbers\n",
    "num1 = 9.50\n",
    "num2 = 7.85\n",
    "\n",
    "result = (num1 + num2) * (num1 - num2)\n",
    "result"
   ]
  },
  {
   "cell_type": "code",
   "execution_count": 5,
   "metadata": {},
   "outputs": [
    {
     "data": {
      "text/plain": [
       "2.5"
      ]
     },
     "execution_count": 5,
     "metadata": {},
     "output_type": "execute_result"
    }
   ],
   "source": [
    "# Converting minutes to hours\n",
    "minutes = 150\n",
    "hours = minutes / 60\n",
    "hours"
   ]
  },
  {
   "cell_type": "markdown",
   "metadata": {},
   "source": [
    "## Objectives\n",
    "- Understand the basic tools used in data science\n",
    "- Learn about popular data science languages and libraries\n",
    "- Perform basic airthmetic operations\n",
    "- Convert units from minutes to hours"
   ]
  },
  {
   "cell_type": "markdown",
   "metadata": {},
   "source": [
    "## Author\n",
    "Gaurav"
   ]
  }
 ],
 "metadata": {
  "kernelspec": {
   "display_name": "Python 3 (ipykernel)",
   "language": "python",
   "name": "python3"
  },
  "language_info": {
   "codemirror_mode": {
    "name": "ipython",
    "version": 3
   },
   "file_extension": ".py",
   "mimetype": "text/x-python",
   "name": "python",
   "nbconvert_exporter": "python",
   "pygments_lexer": "ipython3",
   "version": "3.12.4"
  }
 },
 "nbformat": 4,
 "nbformat_minor": 4
}
